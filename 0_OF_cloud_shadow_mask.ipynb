{
 "cells": [
  {
   "cell_type": "code",
   "execution_count": 25,
   "metadata": {},
   "outputs": [],
   "source": [
    "import ee\n",
    "import datetime\n",
    "import eemont"
   ]
  },
  {
   "cell_type": "code",
   "execution_count": 26,
   "metadata": {},
   "outputs": [],
   "source": [
    "#ee.Authenticate()\n",
    "ee.Initialize()"
   ]
  },
  {
   "attachments": {},
   "cell_type": "markdown",
   "metadata": {},
   "source": [
    "PARAMETERS"
   ]
  },
  {
   "cell_type": "code",
   "execution_count": 27,
   "metadata": {},
   "outputs": [],
   "source": [
    "# Fields\n",
    "\n",
    "altm_buf = ee.FeatureCollection('projects/ee-bmperezaraujo/assets/fields_altm_buffered')\n",
    "lanmo_buf = ee.FeatureCollection('projects/ee-bmperezaraujo/assets/lanmo_buffered')\n",
    "komo_buf = ee.FeatureCollection('projects/ee-bmperezaraujo/assets/KomoFields_new/old_komo_buf') #Komo for 2022 validation\n",
    "dt_2023 = ee.FeatureCollection('projects/ee-bmperezaraujo/assets/DT_2023')\n",
    "rt_2018 = ee.FeatureCollection('projects/ee-bmperezaraujo/assets/RT_2018')"
   ]
  },
  {
   "cell_type": "code",
   "execution_count": 28,
   "metadata": {},
   "outputs": [],
   "source": [
    "# Areas of interest\n",
    "\n",
    "rectangle_around_komo = [\n",
    "    [12.24781567858654,48.63364077609223],\n",
    "    [12.261896825004106,48.61616706415128],\n",
    "    [12.284205163929942,48.60050609850866],\n",
    "    [12.788165456118127,48.69214064873259],\n",
    "    [12.808848918234043,48.72685336443358],\n",
    "    [12.7883091278265,48.748023697709286],\n",
    "    [12.739480336773559,48.7371718118958],\n",
    "    [12.547310137926523,48.698203080639445],\n",
    "    [12.24781567858654,48.63364077609223]\n",
    "    ]\n",
    "\n",
    "rectangle_around_altm = [\n",
    "    [10.601607342048558,49.1400903899757],\n",
    "    [10.724688549323949,49.1400903899757],\n",
    "    [10.724688549323949,49.19979952240029],\n",
    "    [10.601607342048558,49.19979952240029],\n",
    "    [10.601607342048558,49.1400903899757]\n",
    "    ]\n",
    "\n",
    "rectangle_around_lanmo = [\n",
    "    [11.182180706119182,48.617264539449096],\n",
    "    [11.225267711734416,48.617264539449096],\n",
    "    [11.225267711734416,48.64471993161285],\n",
    "    [11.182180706119182,48.64471993161285],\n",
    "    [11.182180706119182,48.617264539449096]\n",
    "    ]\n",
    "\n",
    "rectangle_around_altm_alesheim = [ # For AL_2023\n",
    "    [10.612556349729182,49.1788311237893],\n",
    "    [10.64156712243426,49.149534320681724],\n",
    "    [10.67177952477801,49.14055098693633],\n",
    "    [10.80361546227801,49.057827892005704],\n",
    "    [10.835201155637385,49.02632094126456],\n",
    "    [10.85580052087176,49.020917745442524],\n",
    "    [10.87777317712176,49.03352428981247],\n",
    "    [10.86129368493426,49.05692797040905],\n",
    "    [10.711604964231135,49.18545137092539],\n",
    "    [10.619251143430354,49.18455376219791],\n",
    "    [10.61135472009051,49.18163642138161],\n",
    "    [10.612556349729182,49.1788311237893]\n",
    "]\n",
    "\n",
    "rectangle_around_altm_2020_extra = [ # Extra AL 2020 birds\n",
    "    [10.662692698733517,49.078907557316256],\n",
    "    [10.812381419436642,49.078907557316256],\n",
    "    [10.812381419436642,49.18269482730185],\n",
    "    [10.662692698733517,49.18269482730185],\n",
    "    [10.662692698733517,49.078907557316256]\n",
    "]\n",
    "\n",
    "rectangle_around_donaumoos = [ # Extra DM birds\n",
    "    [11.163654736941853,48.60096794569677],\n",
    "    [11.371021680301228,48.60096794569677],\n",
    "    [11.371021680301228,48.70331543696478],\n",
    "    [11.163654736941853,48.70331543696478],\n",
    "    [11.163654736941853,48.60096794569677]\n",
    "]\n",
    "\n",
    "rectangle_around_rta = [ # Extra RTA bird\n",
    "    [12.403543368324614,48.96554045023258],\n",
    "    [12.45710171793399,48.96554045023258],\n",
    "    [12.45710171793399,48.99686062344109],\n",
    "    [12.403543368324614,48.99686062344109],\n",
    "    [12.403543368324614,48.96554045023258]\n",
    "]\n",
    "\n",
    "rectangle_around_dota = [\n",
    "    [12.655737662070639,48.74098225628875],\n",
    "    [12.909453177207357,48.74098225628875],\n",
    "    [12.909453177207357,48.91727115497619],\n",
    "    [12.655737662070639,48.91727115497619],\n",
    "    [12.655737662070639,48.74098225628875]\n",
    "]"
   ]
  },
  {
   "cell_type": "code",
   "execution_count": 29,
   "metadata": {},
   "outputs": [],
   "source": [
    "AOI = ee.Geometry.Polygon(rectangle_around_rta)\n",
    "START_DATE = '2018-03-01'\n",
    "END_DATE = '2018-07-31' #datetime.datetime.now().strftime('%Y-%m-%d') # current date\n",
    "CLOUD_FILTER = 60 # Not in use\n",
    "CLD_PRB_THRESH = 65\n",
    "NIR_DRK_THRESH = 0.15\n",
    "CLD_PRJ_DIST = 1\n",
    "BUFFER = 7 # Mask buffer\n",
    "MONTH_FILTER = ee.Filter.calendarRange(3, 7, 'month')"
   ]
  },
  {
   "cell_type": "code",
   "execution_count": 30,
   "metadata": {},
   "outputs": [],
   "source": [
    "# Export parameters\n",
    "\n",
    "fields = rt_2018 # Fields for median calculation and export\n",
    "description = 'S2_RT_2018' # Name of file in Drive\n",
    "fieldIdColumn = 'new_id' # Lanmo + Komo for validation: fid // Altm: field_id"
   ]
  },
  {
   "attachments": {},
   "cell_type": "markdown",
   "metadata": {},
   "source": [
    "FILTER ORIGINAL IC"
   ]
  },
  {
   "cell_type": "code",
   "execution_count": 31,
   "metadata": {},
   "outputs": [],
   "source": [
    "def get_s2_sr_cld_col(aoi, start_date, end_date):\n",
    "    # Import and filter S2 SR.\n",
    "    s2_sr_col = (ee.ImageCollection('COPERNICUS/S2_SR_HARMONIZED')\n",
    "        .filterBounds(aoi)\n",
    "        .filterDate(start_date, end_date)\n",
    "        .filter(MONTH_FILTER)\n",
    "#        .filter(ee.Filter.lte('CLOUDY_PIXEL_PERCENTAGE', CLOUD_FILTER))\n",
    "        )\n",
    "\n",
    "    # Import and filter s2cloudless.\n",
    "    s2_cloudless_col = (ee.ImageCollection('COPERNICUS/S2_CLOUD_PROBABILITY')\n",
    "        .filterBounds(aoi)\n",
    "        .filterDate(start_date, end_date)\n",
    "        .filter(MONTH_FILTER))\n",
    "\n",
    "    # Join the filtered s2cloudless collection to the SR collection by the 'system:index' property.\n",
    "    return ee.ImageCollection(ee.Join.saveFirst('s2cloudless').apply(**{\n",
    "        'primary': s2_sr_col,\n",
    "        'secondary': s2_cloudless_col,\n",
    "        'condition': ee.Filter.equals(**{\n",
    "            'leftField': 'system:index',\n",
    "            'rightField': 'system:index'\n",
    "        })\n",
    "    }))"
   ]
  },
  {
   "cell_type": "code",
   "execution_count": 32,
   "metadata": {},
   "outputs": [],
   "source": [
    "filtered_IC = get_s2_sr_cld_col(AOI, START_DATE, END_DATE)"
   ]
  },
  {
   "attachments": {},
   "cell_type": "markdown",
   "metadata": {},
   "source": [
    "CLOUD AND SHADOW MASKING"
   ]
  },
  {
   "cell_type": "code",
   "execution_count": 33,
   "metadata": {},
   "outputs": [],
   "source": [
    "# Support function for cloud masking\n",
    "\n",
    "def add_cloud_bands(img):\n",
    "    # Get s2cloudless image, subset the probability band.\n",
    "    cld_prb = ee.Image(img.get('s2cloudless')).select('probability')\n",
    "\n",
    "    # Condition s2cloudless by the probability threshold value.\n",
    "    is_cloud = cld_prb.gt(CLD_PRB_THRESH).rename('clouds')\n",
    "\n",
    "    # Add the cloud probability layer and cloud mask as image bands.\n",
    "    return img.addBands(ee.Image([cld_prb, is_cloud]))"
   ]
  },
  {
   "cell_type": "code",
   "execution_count": 34,
   "metadata": {},
   "outputs": [],
   "source": [
    "# Support function for shadow masking\n",
    "\n",
    "def add_shadow_bands(img):\n",
    "    # Identify water pixels from the SCL band.\n",
    "    not_water = img.select('SCL').neq(6)\n",
    "\n",
    "    # Identify dark NIR pixels that are not water (potential cloud shadow pixels).\n",
    "    SR_BAND_SCALE = 1e4\n",
    "    dark_pixels = img.select('B8').lt(NIR_DRK_THRESH*SR_BAND_SCALE).multiply(not_water).rename('dark_pixels')\n",
    "\n",
    "    # Determine the direction to project cloud shadow from clouds (assumes UTM projection).\n",
    "    shadow_azimuth = ee.Number(90).subtract(ee.Number(img.get('MEAN_SOLAR_AZIMUTH_ANGLE')));\n",
    "\n",
    "    # Project shadows from clouds for the distance specified by the CLD_PRJ_DIST input.\n",
    "    cld_proj = (img.select('clouds').directionalDistanceTransform(shadow_azimuth, CLD_PRJ_DIST*10)\n",
    "        .reproject(**{'crs': img.select(0).projection(), 'scale': 100})\n",
    "        .select('distance')\n",
    "        .mask()\n",
    "        .rename('cloud_transform'))\n",
    "\n",
    "    # Identify the intersection of dark pixels with cloud shadow projection.\n",
    "    shadows = cld_proj.multiply(dark_pixels).rename('shadows')\n",
    "\n",
    "    # Add dark pixels, cloud projection, and identified shadows as image bands.\n",
    "    return img.addBands(ee.Image([dark_pixels, cld_proj, shadows]))"
   ]
  },
  {
   "cell_type": "code",
   "execution_count": 35,
   "metadata": {},
   "outputs": [],
   "source": [
    "# Aggregate cloud and shadow mask into final function\n",
    "\n",
    "def add_cld_shdw_mask(img):\n",
    "    # Add cloud component bands.\n",
    "    img_cloud = add_cloud_bands(img)\n",
    "\n",
    "    # Add cloud shadow component bands.\n",
    "    img_cloud_shadow = add_shadow_bands(img_cloud)\n",
    "\n",
    "    # Combine cloud and shadow mask, set cloud and shadow as value 1, else 0.\n",
    "    is_cld_shdw = img_cloud_shadow.select('clouds').add(img_cloud_shadow.select('shadows')).gt(0)\n",
    "\n",
    "    # Remove small cloud-shadow patches and dilate remaining pixels by BUFFER input.\n",
    "    # 20 m scale is for speed, and assumes clouds don't require 10 m precision.\n",
    "    is_cld_shdw = (is_cld_shdw.focalMin(2).focalMax(BUFFER)\n",
    "        .reproject(**{'crs': img.select([0]).projection(), 'scale': 10})\n",
    "        .rename('cloudmask'))\n",
    "\n",
    "    # Add the final cloud-shadow mask to the image.\n",
    "    return img_cloud_shadow.addBands(is_cld_shdw)"
   ]
  },
  {
   "cell_type": "code",
   "execution_count": 36,
   "metadata": {},
   "outputs": [],
   "source": [
    "# Apply cloud and shadow bands, clip to AOI\n",
    "\n",
    "IC_withMaskBands = filtered_IC.map(add_cld_shdw_mask).map(lambda image: image.clip(AOI))"
   ]
  },
  {
   "cell_type": "code",
   "execution_count": 37,
   "metadata": {},
   "outputs": [],
   "source": [
    "# Apply cloud and shadow mask based on 'cloudmask' band\n",
    "\n",
    "def maskCloudsAndShadows(image):\n",
    "    cloudmask = image.select('cloudmask')\n",
    "    maskedImage = image.updateMask(cloudmask.eq(0))\n",
    "    return maskedImage"
   ]
  },
  {
   "cell_type": "code",
   "execution_count": 38,
   "metadata": {},
   "outputs": [],
   "source": [
    "# Mask out clouds and shadows\n",
    "\n",
    "masked_IC = IC_withMaskBands.map(maskCloudsAndShadows)"
   ]
  },
  {
   "cell_type": "code",
   "execution_count": 39,
   "metadata": {},
   "outputs": [],
   "source": [
    "# Calculate indices\n",
    "# Will remove bands from mask calculation\n",
    "# But doing it after ensures mask output is not changed\n",
    "\n",
    "IC_withIndices = masked_IC.scaleAndOffset().spectralIndices([\"NDVI\", \"SAVI\", \"EVI\", \"MSI\", \"NMDI\", \"MNDWI\", \"NDWI\", \"GNDVI\"])"
   ]
  },
  {
   "cell_type": "code",
   "execution_count": 40,
   "metadata": {},
   "outputs": [
    {
     "name": "stdout",
     "output_type": "stream",
     "text": [
      "Number of images in the collection: 116\n"
     ]
    }
   ],
   "source": [
    "Final_IC = IC_withIndices\n",
    "\n",
    "count = Final_IC.size()\n",
    "print('Number of images in the collection:', count.getInfo())"
   ]
  },
  {
   "attachments": {},
   "cell_type": "markdown",
   "metadata": {},
   "source": [
    "EXPORT AS GEE ASSET"
   ]
  },
  {
   "cell_type": "code",
   "execution_count": 41,
   "metadata": {},
   "outputs": [
    {
     "name": "stderr",
     "output_type": "stream",
     "text": [
      "UsageError: Cell magic `%%` not found.\n"
     ]
    }
   ],
   "source": [
    "%% skip\n",
    "\n",
    "# Export IC as asset\n",
    "\n",
    "image_list = masked_IC.toList(masked_IC.size())\n",
    "\n",
    "for i in range(image_list.length().getInfo()):\n",
    "    image = ee.Image(image_list.get(i))\n",
    "    \n",
    "    export_params = {\n",
    "        'image': image,\n",
    "        'description': 'masked_image_export',\n",
    "        'assetId': 'projects/ee-bmperezaraujo/assets/s2_cloud_shadow_masked/' + image.get('system:index').getInfo(),\n",
    "        'scale': 10\n",
    "    }\n",
    "    \n",
    "    task = ee.batch.Export.image.toAsset(**export_params)\n",
    "    task.start()"
   ]
  },
  {
   "cell_type": "code",
   "execution_count": 42,
   "metadata": {},
   "outputs": [
    {
     "name": "stderr",
     "output_type": "stream",
     "text": [
      "UsageError: Cell magic `%%` not found.\n"
     ]
    }
   ],
   "source": [
    "%% skip\n",
    "\n",
    "# Copy images to appropriate IC folder\n",
    "\n",
    "src_folder = \"projects/ee-bmperezaraujo/assets/\"\n",
    "dest_folder = \"projects/ee-bmperezaraujo/assets/IC_komo_shadowmasked\"\n",
    "assets = ee.data.listAssets({'parent': src_folder})\n",
    "\n",
    "for asset in assets['assets']:\n",
    "    if 's2_cloud_shadow_masked' in asset['id']:\n",
    "        new_asset = dest_folder + '/' + asset['id'].split('/')[-1]\n",
    "        ee.data.copyAsset(asset['id'], new_asset, True)\n",
    "        ee.data.deleteAsset(asset['id'])"
   ]
  },
  {
   "attachments": {},
   "cell_type": "markdown",
   "metadata": {},
   "source": [
    "EXPORT AS CSV"
   ]
  },
  {
   "cell_type": "code",
   "execution_count": 43,
   "metadata": {},
   "outputs": [],
   "source": [
    "#%% skip\n",
    "\n",
    "def exportTimeSeriesToCSV(description, s2CloudMasked, fieldIdColumn):\n",
    "    region_list = fields.toList(fields.size())\n",
    "  \n",
    "    def exportFunction(ele):\n",
    "        geometry = ee.Feature(ele).geometry()\n",
    "        sen2_masked_export = s2CloudMasked.filterBounds(geometry)\n",
    "    \n",
    "        def getData(e):\n",
    "            image = ee.Image(e)\n",
    "            date = ee.Date(image.get(\"system:time_start\")).format().slice(0, 10)\n",
    "      \n",
    "            region = image.reduceRegion(ee.Reducer.median(), geometry)\n",
    "            \n",
    "            ft = ee.Feature(None, {\n",
    "                'date': date,\n",
    "                'aerosol': region.get('B1'),\n",
    "                'blue': region.get('B2'),\n",
    "                'green': region.get('B3'),\n",
    "                'red': region.get('B4'),\n",
    "                're1': region.get('B5'),\n",
    "                're2': region.get('B6'),\n",
    "                're3': region.get('B7'),\n",
    "                'nir': region.get('B8'),\n",
    "                're4': region.get('B8A'),\n",
    "                'water_vapour': region.get('B9'),\n",
    "                'swir1': region.get('B11'),\n",
    "                'swir2': region.get('B12'),\n",
    "                'NDVI': region.get('NDVI'),\n",
    "                'SAVI': region.get('SAVI'),\n",
    "                'EVI': region.get('EVI'),\n",
    "                'MSI': region.get('MSI'),\n",
    "                'NMDI': region.get('NMDI'),\n",
    "                'MNDWI': region.get('MNDWI'),\n",
    "                'NDWI': region.get('NDWI'),\n",
    "                'GNDVI': region.get('GNDVI'),\n",
    "                'cloud_cover': image.get(\"CLOUDY_PIXEL_PERCENTAGE\"),\n",
    "                'field_id': ee.Feature(ele).get(fieldIdColumn)\n",
    "            })\n",
    "      \n",
    "            return ft\n",
    "    \n",
    "        return sen2_masked_export.toList(sen2_masked_export.size()).map(getData).flatten()\n",
    "  \n",
    "    forExport = region_list.map(exportFunction)\n",
    "  \n",
    "    # Export the time-series as a CSV.\n",
    "    task = ee.batch.Export.table.toDrive(\n",
    "        collection=ee.FeatureCollection(forExport.flatten()),\n",
    "        description=description,\n",
    "        selectors=['date, aerosol, blue, green, red, re1, re2, re3, nir, re4, water_vapour, swir1, swir2, NDVI, SAVI, EVI, MSI, NMDI, MNDWI, NDWI, GNDVI, cloud_cover, field_id'],\n",
    "        folder='extra_birds'\n",
    "    )\n",
    "    task.start()"
   ]
  },
  {
   "cell_type": "code",
   "execution_count": 44,
   "metadata": {},
   "outputs": [],
   "source": [
    "#%% skip\n",
    "\n",
    "exportTimeSeriesToCSV(description, Final_IC, fieldIdColumn)"
   ]
  },
  {
   "attachments": {},
   "cell_type": "markdown",
   "metadata": {},
   "source": [
    "VISUALISATION"
   ]
  },
  {
   "cell_type": "code",
   "execution_count": 379,
   "metadata": {},
   "outputs": [],
   "source": [
    "%% skip\n",
    "\n",
    "import folium\n",
    "\n",
    "# Define a method for displaying Earth Engine image tiles to a folium map.\n",
    "def add_ee_layer(self, ee_image_object, vis_params, name, show=True, opacity=1, min_zoom=0):\n",
    "    map_id_dict = ee.Image(ee_image_object).getMapId(vis_params)\n",
    "    folium.raster_layers.TileLayer(\n",
    "        tiles=map_id_dict['tile_fetcher'].url_format,\n",
    "        attr='Map Data &copy; <a href=\"https://earthengine.google.com/\">Google Earth Engine</a>',\n",
    "        name=name,\n",
    "        show=show,\n",
    "        opacity=opacity,\n",
    "        min_zoom=min_zoom,\n",
    "        overlay=True,\n",
    "        control=True\n",
    "        ).add_to(self)\n",
    "\n",
    "# Add the Earth Engine layer method to folium.\n",
    "folium.Map.add_ee_layer = add_ee_layer"
   ]
  },
  {
   "cell_type": "code",
   "execution_count": 380,
   "metadata": {},
   "outputs": [
    {
     "data": {
      "text/html": [
       "<div style=\"width:100%;\"><div style=\"position:relative;width:100%;height:0;padding-bottom:60%;\"><span style=\"color:#565656\">Make this Notebook Trusted to load map: File -> Trust Notebook</span><iframe srcdoc=\"&lt;!DOCTYPE html&gt;\n",
       "&lt;html&gt;\n",
       "&lt;head&gt;\n",
       "    \n",
       "    &lt;meta http-equiv=&quot;content-type&quot; content=&quot;text/html; charset=UTF-8&quot; /&gt;\n",
       "    \n",
       "        &lt;script&gt;\n",
       "            L_NO_TOUCH = false;\n",
       "            L_DISABLE_3D = false;\n",
       "        &lt;/script&gt;\n",
       "    \n",
       "    &lt;style&gt;html, body {width: 100%;height: 100%;margin: 0;padding: 0;}&lt;/style&gt;\n",
       "    &lt;style&gt;#map {position:absolute;top:0;bottom:0;right:0;left:0;}&lt;/style&gt;\n",
       "    &lt;script src=&quot;https://cdn.jsdelivr.net/npm/leaflet@1.9.3/dist/leaflet.js&quot;&gt;&lt;/script&gt;\n",
       "    &lt;script src=&quot;https://code.jquery.com/jquery-1.12.4.min.js&quot;&gt;&lt;/script&gt;\n",
       "    &lt;script src=&quot;https://cdn.jsdelivr.net/npm/bootstrap@5.2.2/dist/js/bootstrap.bundle.min.js&quot;&gt;&lt;/script&gt;\n",
       "    &lt;script src=&quot;https://cdnjs.cloudflare.com/ajax/libs/Leaflet.awesome-markers/2.0.2/leaflet.awesome-markers.js&quot;&gt;&lt;/script&gt;\n",
       "    &lt;link rel=&quot;stylesheet&quot; href=&quot;https://cdn.jsdelivr.net/npm/leaflet@1.9.3/dist/leaflet.css&quot;/&gt;\n",
       "    &lt;link rel=&quot;stylesheet&quot; href=&quot;https://cdn.jsdelivr.net/npm/bootstrap@5.2.2/dist/css/bootstrap.min.css&quot;/&gt;\n",
       "    &lt;link rel=&quot;stylesheet&quot; href=&quot;https://netdna.bootstrapcdn.com/bootstrap/3.0.0/css/bootstrap.min.css&quot;/&gt;\n",
       "    &lt;link rel=&quot;stylesheet&quot; href=&quot;https://cdn.jsdelivr.net/npm/@fortawesome/fontawesome-free@6.2.0/css/all.min.css&quot;/&gt;\n",
       "    &lt;link rel=&quot;stylesheet&quot; href=&quot;https://cdnjs.cloudflare.com/ajax/libs/Leaflet.awesome-markers/2.0.2/leaflet.awesome-markers.css&quot;/&gt;\n",
       "    &lt;link rel=&quot;stylesheet&quot; href=&quot;https://cdn.jsdelivr.net/gh/python-visualization/folium/folium/templates/leaflet.awesome.rotate.min.css&quot;/&gt;\n",
       "    \n",
       "            &lt;meta name=&quot;viewport&quot; content=&quot;width=device-width,\n",
       "                initial-scale=1.0, maximum-scale=1.0, user-scalable=no&quot; /&gt;\n",
       "            &lt;style&gt;\n",
       "                #map_d3165f30d23c9dffca1fc9f2bba13cf6 {\n",
       "                    position: relative;\n",
       "                    width: 100.0%;\n",
       "                    height: 100.0%;\n",
       "                    left: 0.0%;\n",
       "                    top: 0.0%;\n",
       "                }\n",
       "                .leaflet-container { font-size: 1rem; }\n",
       "            &lt;/style&gt;\n",
       "        \n",
       "&lt;/head&gt;\n",
       "&lt;body&gt;\n",
       "    \n",
       "    \n",
       "            &lt;div class=&quot;folium-map&quot; id=&quot;map_d3165f30d23c9dffca1fc9f2bba13cf6&quot; &gt;&lt;/div&gt;\n",
       "        \n",
       "&lt;/body&gt;\n",
       "&lt;script&gt;\n",
       "    \n",
       "    \n",
       "            var map_d3165f30d23c9dffca1fc9f2bba13cf6 = L.map(\n",
       "                &quot;map_d3165f30d23c9dffca1fc9f2bba13cf6&quot;,\n",
       "                {\n",
       "                    center: [49.16304293215874, 10.691069976654566],\n",
       "                    crs: L.CRS.EPSG3857,\n",
       "                    zoom: 15,\n",
       "                    zoomControl: true,\n",
       "                    preferCanvas: false,\n",
       "                }\n",
       "            );\n",
       "\n",
       "            \n",
       "\n",
       "        \n",
       "    \n",
       "            var tile_layer_40543127e9e78127bee5ae76d72d3e00 = L.tileLayer(\n",
       "                &quot;https://{s}.tile.openstreetmap.org/{z}/{x}/{y}.png&quot;,\n",
       "                {&quot;attribution&quot;: &quot;Data by \\u0026copy; \\u003ca target=\\&quot;_blank\\&quot; href=\\&quot;http://openstreetmap.org\\&quot;\\u003eOpenStreetMap\\u003c/a\\u003e, under \\u003ca target=\\&quot;_blank\\&quot; href=\\&quot;http://www.openstreetmap.org/copyright\\&quot;\\u003eODbL\\u003c/a\\u003e.&quot;, &quot;detectRetina&quot;: false, &quot;maxNativeZoom&quot;: 18, &quot;maxZoom&quot;: 18, &quot;minZoom&quot;: 0, &quot;noWrap&quot;: false, &quot;opacity&quot;: 1, &quot;subdomains&quot;: &quot;abc&quot;, &quot;tms&quot;: false}\n",
       "            ).addTo(map_d3165f30d23c9dffca1fc9f2bba13cf6);\n",
       "        \n",
       "    \n",
       "            var tile_layer_46f72861f44ccc51b40732741958eaca = L.tileLayer(\n",
       "                &quot;https://earthengine.googleapis.com/v1alpha/projects/earthengine-legacy/maps/b4e19ab0c6fbd295cce93080107b242f-59ab120a7d340511bce268e80592b343/tiles/{z}/{x}/{y}&quot;,\n",
       "                {&quot;attribution&quot;: &quot;Map Data \\u0026copy; \\u003ca href=\\&quot;https://earthengine.google.com/\\&quot;\\u003eGoogle Earth Engine\\u003c/a\\u003e&quot;, &quot;detectRetina&quot;: false, &quot;maxNativeZoom&quot;: 18, &quot;maxZoom&quot;: 18, &quot;minZoom&quot;: 0, &quot;noWrap&quot;: false, &quot;opacity&quot;: 1, &quot;subdomains&quot;: &quot;abc&quot;, &quot;tms&quot;: false}\n",
       "            ).addTo(map_d3165f30d23c9dffca1fc9f2bba13cf6);\n",
       "        \n",
       "&lt;/script&gt;\n",
       "&lt;/html&gt;\" style=\"position:absolute;width:100%;height:100%;left:0;top:0;border:none !important;\" allowfullscreen webkitallowfullscreen mozallowfullscreen></iframe></div></div>"
      ],
      "text/plain": [
       "<folium.folium.Map at 0x1815a1d2410>"
      ]
     },
     "metadata": {},
     "output_type": "display_data"
    }
   ],
   "source": [
    "%% skip\n",
    "\n",
    "# Simple visualisation\n",
    "\n",
    "image = Final_IC.sort('CLOUDY_PIXEL_PERCENTAGE').first()\n",
    "#image = Final_IC.filter(ee.Filter.date('2022-05-20', '2022-06-30')).first() # Low cloud density\n",
    "#image = Final_IC.filter(ee.Filter.date('2022-05-25', '2022-05-27')).first() # Middle cloud density\n",
    "#image = Final_IC.filter(ee.Filter.date('2022-06-25', '2022-06-30')).first() # High cloud density\n",
    "\n",
    "# Get the image visualization parameters\n",
    "vis_params = {\n",
    "    'bands': ['B4', 'B3', 'B2'],\n",
    "    'min': 0,\n",
    "    'max': 0.3\n",
    "}\n",
    "\n",
    "#map = folium.Map(location=[48.66181704242688, 12.49038135956078], zoom_start=15) # Komo\n",
    "map = folium.Map(location=[49.16304293215874, 10.691069976654566], zoom_start=15) # Altm\n",
    "#map = folium.Map(location=[48.63508880956953, 11.218028674587813], zoom_start=15) # Lanmo\n",
    "\n",
    "map.add_ee_layer(image, vis_params, 'Image')\n",
    "\n",
    "display(map)"
   ]
  },
  {
   "cell_type": "code",
   "execution_count": 381,
   "metadata": {},
   "outputs": [
    {
     "name": "stderr",
     "output_type": "stream",
     "text": [
      "UsageError: Cell magic `%%` not found.\n"
     ]
    }
   ],
   "source": [
    "%% skip\n",
    "\n",
    "def display_cloud_layers(col):\n",
    "    # Mosaic the image collection.\n",
    "    img = col.mosaic()\n",
    "\n",
    "    # Subset layers and prepare them for display.\n",
    "    clouds = img.select('clouds').selfMask()\n",
    "    shadows = img.select('shadows').selfMask()\n",
    "    dark_pixels = img.select('dark_pixels').selfMask()\n",
    "    probability = img.select('probability')\n",
    "    cloudmask = img.select('cloudmask').selfMask()\n",
    "    cloud_transform = img.select('cloud_transform')\n",
    "\n",
    "    # Create a folium map object.\n",
    "    center = AOI.centroid(10).coordinates().reverse().getInfo()\n",
    "    m = folium.Map(location=center, zoom_start=12)\n",
    "\n",
    "    # Add layers to the folium map.\n",
    "    m.add_ee_layer(img,\n",
    "                   {'bands': ['B4', 'B3', 'B2'], 'min': 0, 'max': 2500, 'gamma': 1.1},\n",
    "                   'S2 image', True, 1, 9)\n",
    "    m.add_ee_layer(probability,\n",
    "                   {'min': 0, 'max': 100},\n",
    "                   'probability (cloud)', False, 1, 9)\n",
    "    m.add_ee_layer(clouds,\n",
    "                   {'palette': 'e056fd'},\n",
    "                   'clouds', False, 1, 9)\n",
    "    m.add_ee_layer(cloud_transform,\n",
    "                   {'min': 0, 'max': 1, 'palette': ['white', 'black']},\n",
    "                   'cloud_transform', False, 1, 9)\n",
    "    m.add_ee_layer(dark_pixels,\n",
    "                   {'palette': 'orange'},\n",
    "                   'dark_pixels', False, 1, 9)\n",
    "    m.add_ee_layer(shadows, {'palette': 'yellow'},\n",
    "                   'shadows', False, 1, 9)\n",
    "    m.add_ee_layer(cloudmask, {'palette': 'orange'},\n",
    "                   'cloudmask', True, 0.5, 9)\n",
    "\n",
    "    # Add a layer control panel to the map.\n",
    "    m.add_child(folium.LayerControl())\n",
    "\n",
    "    # Display the map.\n",
    "    display(m)"
   ]
  },
  {
   "cell_type": "code",
   "execution_count": 382,
   "metadata": {},
   "outputs": [
    {
     "name": "stderr",
     "output_type": "stream",
     "text": [
      "UsageError: Cell magic `%%` not found.\n"
     ]
    }
   ],
   "source": [
    "%% skip\n",
    "\n",
    "display_cloud_layers(masked_IC)"
   ]
  }
 ],
 "metadata": {
  "kernelspec": {
   "display_name": "base",
   "language": "python",
   "name": "python3"
  },
  "language_info": {
   "codemirror_mode": {
    "name": "ipython",
    "version": 3
   },
   "file_extension": ".py",
   "mimetype": "text/x-python",
   "name": "python",
   "nbconvert_exporter": "python",
   "pygments_lexer": "ipython3",
   "version": "3.10.11"
  },
  "orig_nbformat": 4
 },
 "nbformat": 4,
 "nbformat_minor": 2
}
